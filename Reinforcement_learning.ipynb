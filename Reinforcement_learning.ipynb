{
 "cells": [
  {
   "cell_type": "markdown",
   "metadata": {
    "cell_id": "00000-214463c5-4d51-4278-9994-0eb672a341ce",
    "deepnote_app_coordinates": {
     "h": 5,
     "w": 12,
     "x": 0,
     "y": null
    },
    "deepnote_cell_type": "markdown",
    "id": "CxVMZneWkPkW"
   },
   "source": [
    "# Reinforcement Learning: Theory and Study"
   ]
  },
  {
   "cell_type": "markdown",
   "metadata": {
    "cell_id": "00001-2b316648-7969-4a72-b926-187e0d943863",
    "deepnote_app_coordinates": {
     "h": 5,
     "w": 12,
     "x": 0,
     "y": 6
    },
    "deepnote_cell_type": "markdown",
    "id": "XtdoubEvjGwv"
   },
   "source": [
    "\n",
    "The purpose of this notebook is to investigate Decision Theory and build a decision processes under uncertainty. \n",
    "We will first build a Markov Decision Process to them dive into a decision process with no uncertainty and solving it with a Value Iteration algorithmn, to  grasp the challenges of creating a decision policy.\n",
    "We will then look into Reinforcement learning to build a decision process under uncertainty, implementing a Q-learning algorithmn. "
   ]
  },
  {
   "cell_type": "markdown",
   "metadata": {},
   "source": [
    "*This notebook is inspired from an assignment of the course **DAT405 Introduction to Data Science and AI, 2021**, taken when I was studying at Chalmers University of Technology*.\n",
    "\n",
    "*See the references at the end of this notebook.*\n"
   ]
  },
  {
   "cell_type": "markdown",
   "metadata": {
    "cell_id": "00006-61c1be6f-7d91-4dd5-92fc-13523aae8c12",
    "deepnote_app_coordinates": {
     "h": 5,
     "w": 12,
     "x": 0,
     "y": 42
    },
    "deepnote_cell_type": "markdown",
    "id": "2zZ6HjxpH7e7"
   },
   "source": [
    "## Part 1: Markov Decision Process theory\n"
   ]
  },
  {
   "cell_type": "markdown",
   "metadata": {
    "cell_id": "00007-e2ac69db-a94e-4e50-89b2-4940b990cd53",
    "deepnote_app_coordinates": {
     "h": 5,
     "w": 12,
     "x": 0,
     "y": 48
    },
    "deepnote_cell_type": "markdown",
    "id": "KurOZxYjH7e7"
   },
   "source": [
    "Markov Decision Process (MDP) provides a mathematical framework for modeling sequential decision making under uncertainty. A MDP consists of five parts: the specific decision times, the state space of the environment/system, the available actions for the decision maker, the rewards, and the transition probabilities between the states.\n",
    "\n",
    "* Decision epochs: $t={1,2,...,T}$, where $T\\leq \\infty$\n",
    "* State space: $S=\\{s_1,s_2,...,s_N\\}$ of the underlying environment\n",
    "* Action space $A=\\{a_1,a_2,...,a_K\\}$ available to the decision maker at each decision epoch\n",
    "* Reward functions $R_t = r(a_t,s_t,s_{t+1})$ for the current state and action, and the resulting next state\n",
    "* Transition probabilities $p(s'|s,a)$ that taking action $a$ in state $s$ will lead to state $s'$\n",
    "\n",
    "At a given decision epoch $t$ and system state $s_t$, the decions maker, or *agent*, chooses an action $a_t$, the system jumps to a new state $s_{t+1}$ according to the transition probability $p(s_{t+1}|s_t,a_t)$, and the agent receives a reward $r_t(s_t,a_t,s_{t+1})$. This process is then repeated for a finite or infinite number of times.\n",
    "\n",
    "A *decision policy* is a function $\\pi: s \\rightarrow a$, that gives instructions on what action to choose in each state. A policy can either be *deterministic*, meaning that the action is given for each state, or *randomized* meaning that there is a probability distribution over the set of possible actions. Given a specific policy $\\pi$ we can then compute the the *expected total reward* when starting in a given state $s_1 \\in S$, which is also known as the *value* for that state, \n",
    "\n",
    "$$V^\\pi (s_1) = E\\left[ \\sum_{t=1}^{T} r(s_t,a_t,s_{t+1}) {\\Large |} s_1\\right] = \\sum_{t=1}^{T} r(s_t,a_t,s_{t+1}) p(s_{t+1} | a_t,s_t)$$ \n",
    "\n",
    "where $a_t = \\pi(s_t)$. To ensure convergence and to control how much credit to give to future rewards, it is common to introduce a *discount factor* $\\gamma \\in [0,1]$. For instance, if you think all future rewards should count equally, you would use $\\gamma = 1$, while if you only care less about future rewards you would use $\\gamma < 1$. The expected total *discounted* reward becomes\n",
    "\n",
    "$$V^\\pi( s_1) = \\sum_{t=1}^T \\gamma^{t-1} r(s_t,a_t, s_{t+1}) p(s_{t+1} | s_t, a_t) $$\n",
    "\n",
    "Now, to find the *optimal* policy we want to find the policy $\\pi^*$ that gives the highest total reward $V^{\\pi^*}(s)$ for all $s\\in S$. That is\n",
    "\n",
    "$$V^{\\pi^*}(s) \\geq V^\\pi(s), s\\in S$$\n",
    "\n",
    "The problem of finding the optimal policy is a _dynamic programming problem_. It turns out that a solution to the optimal policy problem in this context is the *Bellman equation*. The Bellman equation is given by\n",
    "\n",
    "$$V(s) = \\max_{a\\in A} \\left\\{\\sum_{s'\\in S} p(s'|s,a)( r(s,a,s') +\\gamma V(s')) \\right\\}$$\n",
    "\n",
    "Thus, it can be shown that if $\\pi$ is a policy such that $V^\\pi$ fulfills the Bellman equation, then $\\pi$ is an optimal policy.\n",
    "\n",
    "A real world example would be an inventory control system. Your states would be the amount of items you have in stock. Your actions would be the amount to order. The discrete time would be the days of the month. The reward would be the profit.  \n",
    "\n",
    "A major drawback of MDPs is called the \"Curse of Dimensionality\". MDPs unfortunately do not scale very well with increasing sets of states or actions.   \n"
   ]
  },
  {
   "cell_type": "markdown",
   "metadata": {
    "cell_id": "00008-b6676942-a246-41a8-9ed3-aef2e3a2620c",
    "deepnote_app_coordinates": {
     "h": 5,
     "w": 12,
     "x": 0,
     "y": 54
    },
    "deepnote_cell_type": "markdown",
    "id": "0iUmTgzwH7e7"
   },
   "source": [
    "## Part 2: Study of a deterministic MDP, for examplifying purpose."
   ]
  },
  {
   "cell_type": "markdown",
   "metadata": {
    "cell_id": "00009-24c681cf-eb58-479b-99ef-bf836d467a0f",
    "deepnote_app_coordinates": {
     "h": 5,
     "w": 12,
     "x": 0,
     "y": 60
    },
    "deepnote_cell_type": "markdown",
    "id": "QWPya78-H7e7"
   },
   "source": [
    "Setup:\n",
    "\n",
    "* The state space is a grid with 3 columns and 4 rows, where each state is identified by its position. That is, each state has the form $s = (x,y)$ for $x\\in\\{0,1,2\\}$ and $y \\in\\{0,1,2,3\\}$.\n",
    "* The agent starts in state **A** $=(0,0)$\n",
    "* The actions possible are to move **N** (north), **S** (south), **E** (east), and **W** west.\n",
    "* Note, that you cannot move outside the grid, thus all actions are not available in every box.\n",
    "* When reaching **B** = $(2,3)$, the game ends (absorbing state).\n",
    "* The numbers in the boxes represent the rewards you receive when moving into that box. \n",
    "* Assume no discount in this model: $\\gamma = 1$\n",
    "\n",
    "The reward of a state $r(s=(x, y))$ is given by the values on the grid:\n",
    "    \n",
    "| | | |\n",
    "|----------|----------|---------|\n",
    "|-1 |1|**B**|\n",
    "|0|-1|1|  \n",
    "|-1 |0|-1|  \n",
    "|**A**|-1|1|\n",
    "\n",
    "\n"
   ]
  },
  {
   "cell_type": "markdown",
   "metadata": {
    "cell_id": "00011-29a246e4-880b-4c33-ab32-afa86be8cb40",
    "deepnote_app_coordinates": {
     "h": 5,
     "w": 12,
     "x": 0,
     "y": 72
    },
    "deepnote_cell_type": "markdown",
    "id": "Xjja2rsfqKYi"
   },
   "source": [
    "**Study**:\n",
    "\n",
    "The optimal path of the MDP is the path fulfilling the *Bellman equation*, so giving the highest reward. We can also try having one with the lowest number of actions. Since this problem is rather easy to solve by trying different possibilities, the optimal path and reward are:\n",
    "\n",
    "- Optimal path= E -> E -> N -> N -> N\n",
    "- Reward = 0\n",
    "\n",
    "There is no other way to get more than or equal to 0, so this optimal path is unique."
   ]
  },
  {
   "cell_type": "markdown",
   "metadata": {
    "cell_id": "00013-3cc7c3e3-cc96-4ffa-b203-9d3a25308b95",
    "deepnote_app_coordinates": {
     "h": 5,
     "w": 12,
     "x": 0,
     "y": 84
    },
    "deepnote_cell_type": "markdown",
    "id": "DAwI0hTvqP-x"
   },
   "source": [
    "The optimal policy $\\pi_{opt}$ is a policy forcing the optimal path. We can specify a value for each other state, even if the probability of getting there will be later set to 0. This means there is several policies since the actions on the other states can be any, so $\\pi_{opt}$ is not unique.\n",
    "\n",
    "So, $\\pi: s \\rightarrow a$\n",
    "\n",
    "where\n",
    "\n",
    "$\\pi(0,0)=E$ (*for optimal path*), $\\pi(0,1)=N$, $\\pi(0,2)=N$, $\\pi(0,3)=E$\n",
    "\n",
    "$\\pi(1,0)=E$ (*for optimal path*), $\\pi(1,1)=N$, $\\pi(1,2)=N$, $\\pi(1,3)=E$\n",
    "\n",
    "$\\pi(2,0)=N$ (*for optimal path*), $\\pi(2,1)=N$ (*for optimal path*), $\\pi(2,2)=N$ (*for optimal path*), $\\pi(2,3)=$ $absorbing$ $state$\n",
    "\n",
    "\n",
    "And other values for the other state."
   ]
  },
  {
   "cell_type": "markdown",
   "metadata": {
    "cell_id": "00016-a9dba111-93b7-4545-a69c-df165aec5cb4",
    "deepnote_app_coordinates": {
     "h": 5,
     "w": 12,
     "x": 0,
     "y": 102
    },
    "deepnote_cell_type": "markdown",
    "id": "ZyQ7IatcH7e7"
   },
   "source": [
    "## Part 3: Value Iteration algorithmn"
   ]
  },
  {
   "cell_type": "markdown",
   "metadata": {
    "cell_id": "00017-1d76f753-38db-41b4-8ad4-0847471484d9",
    "deepnote_app_coordinates": {
     "h": 5,
     "w": 12,
     "x": 0,
     "y": 108
    },
    "deepnote_cell_type": "markdown",
    "id": "5NfqElM_H7e7"
   },
   "source": [
    "For larger problems we need to utilize algorithms to determine the optimal policy $\\pi^*$. *Value iteration* is one such algorithm that iteratively computes the value for each state. Recall that for a policy to be optimal, it must satisfy the Bellman equation above, meaning that plugging in a given candidate $V$ in the right-hand side (RHS) of the Bellman equation should result in the same $V$ on the left-hand side (LHS). This property will form the basis of our algorithm. Essentially, it can be shown that repeated application of the RHS to any intial value function $V^0(s)$ will eventually lead to the value $V^*$ which satisfies the Bellman equation. Hence repeated application of the RHS of the Bellman equation will also lead to the optimal value function. We can then extract the optimal policy by simply noting what action $a$ achieves the maximum on the RHS of the Bellman equation applied to $V^*$. The process of repeated application of the Bellman equation is what we here call the _value iteration_ algorithm."
   ]
  },
  {
   "cell_type": "markdown",
   "metadata": {
    "cell_id": "00018-5e751dc8-02cc-4e05-8245-87e071bcd64b",
    "deepnote_app_coordinates": {
     "h": 5,
     "w": 12,
     "x": 0,
     "y": 114
    },
    "deepnote_cell_type": "markdown",
    "id": "4qbn4HjqR2fA"
   },
   "source": [
    "The value iteration algorithm practically procedes as follows:\n",
    "\n",
    "```\n",
    "epsilon is a small value, threshold\n",
    "for x from i to infinity \n",
    "do\n",
    "    for each state s\n",
    "    do\n",
    "        V_k[s] = max_a Σ_s' p(s′|s,a)*(r(a,s,s′) + γ*V_k−1[s′])\n",
    "    end\n",
    "    if  |V_k[s]-V_k-1[s]| < epsilon for all s\n",
    "        for each state s,\n",
    "        do\n",
    "            π(s)=argmax_a ∑_s′ p(s′|s,a)*(r(a,s,s′) + γ*V_k−1[s′])\n",
    "            return π, V_k \n",
    "        end\n",
    "end"
   ]
  },
  {
   "cell_type": "markdown",
   "metadata": {
    "cell_id": "00019-33848b01-02f8-4722-8aec-81b45d260203",
    "deepnote_app_coordinates": {
     "h": 5,
     "w": 12,
     "x": 0,
     "y": 120
    },
    "deepnote_cell_type": "markdown",
    "id": "K7hOzat7H7e8"
   },
   "source": [
    "**Example:** We will illustrate the value iteration algorithm by going through two iterations. Below is a 3x3 grid with the rewards $r(s=(x,y))$ given in each state:\n",
    "\n",
    "| | | |  \n",
    "|----------|----------|---------|  \n",
    "|0|0|0|\n",
    "|0|10|0|  \n",
    "|0|0|0| \n",
    "\n",
    "Assume now that given a state $s$ and action $a$, there is a probability of 0.8 that that action will be performed and a probability of 0.2 that no action is taken. For instance, if we take action **E** in state $s=(x,y)$ we will go to $(x+1,y)$ 80 percent of the time (given that that action is available in that state, that is, we stay on the grid), and remain still 20 percent of the time. We will use a discount factor $\\gamma = 0.9$. Let the initial value be $V^0(s)=0$ for all states $s\\in S$. \n",
    "\n",
    "Thus, writing the initial value function $V^0(s)$ in each state $s=(x,y)$ in the grid gives:\n",
    "\n",
    "| | | |  \n",
    "|----------|----------|---------|  \n",
    "|0|0|0|\n",
    "|0|0|0|  \n",
    "|0|0|0| \n",
    "\n",
    "\n",
    "**Iteration 1**: The first iteration is trivial, $V^1(s)$ becomes $\\max_a \\sum_{s'} p(s'|s,a) r(s,a,s')$ since $V^0(s')$ was zero for all $s'$. \n",
    "\n",
    "The updated values $V^1(s)$ for each state become:\n",
    "\n",
    "| | | |  \n",
    "|----------|----------|---------|  \n",
    "|0|8|0|\n",
    "|8|2|8|  \n",
    "|0|8|0|  \n",
    "  \n",
    "**Iteration 2**:  \n",
    "  \n",
    "Starting with cell (0,0) (lower left corner): We find the expected value of each move:  \n",
    "Action **S**: 0  \n",
    "Action **E**: 0.8( 0 + 0.9 \\* 8) + 0.2(0 + 0.9 \\* 0) = 5.76  \n",
    "Action **N**: 0.8( 0 + 0.9 \\* 8) + 0.2(0 + 0.9 \\* 0) = 5.76  \n",
    "Action **W**: 0\n",
    "\n",
    "Hence any action between **E** and **N** would be best at this stage.\n",
    "\n",
    "Similarly for cell (1,0):\n",
    "\n",
    "Action **N**: 0.8( 10 + 0.9 \\* 2) + 0.2(0 + 0.9 \\* 8) = 10.88 (Action **N** is the maximizing action)  \n",
    "\n",
    "Similar calculations for remaining cells give us the updated value function $V^2(s)$:\n",
    "\n",
    "| | | |  \n",
    "|----------|----------|---------|  \n",
    "|5.76|10.88|5.76|\n",
    "|10.88|8.12|10.88|  \n",
    "|5.76|10.88|5.76|  \n"
   ]
  },
  {
   "cell_type": "markdown",
   "metadata": {
    "cell_id": "00020-5cac25af-343a-4559-a387-11c419f7b2d2",
    "deepnote_app_coordinates": {
     "h": 5,
     "w": 12,
     "x": 0,
     "y": 126
    },
    "deepnote_cell_type": "markdown",
    "id": "ccoMLc71H7e8"
   },
   "source": [
    "## Part 4: implementation of Value Iteration algorithmn\n",
    "\n",
    "\n"
   ]
  },
  {
   "cell_type": "markdown",
   "metadata": {
    "cell_id": "00022-f5841f49-e181-4c7d-bab7-10af51e7093b",
    "deepnote_app_coordinates": {
     "h": 5,
     "w": 12,
     "x": 0,
     "y": 0
    },
    "deepnote_cell_type": "markdown",
    "tags": []
   },
   "source": [
    "Firstly, we need to import some libraries."
   ]
  },
  {
   "cell_type": "code",
   "execution_count": 1,
   "metadata": {
    "cell_id": "00022-4126ea0e-028f-4228-89f7-09a0df99cc3b",
    "deepnote_app_coordinates": {
     "h": 5,
     "w": 12,
     "x": 0,
     "y": 0
    },
    "deepnote_cell_type": "code",
    "deepnote_to_be_reexecuted": false,
    "execution_millis": 6,
    "execution_start": 1638916090840,
    "source_hash": "1c3a2338",
    "tags": []
   },
   "outputs": [],
   "source": [
    "# Importing libraries\n",
    "import numpy as np\n",
    "import copy "
   ]
  },
  {
   "cell_type": "markdown",
   "metadata": {
    "cell_id": "00024-c0ea5603-e9e2-454b-b5e9-f4261399e369",
    "deepnote_app_coordinates": {
     "h": 5,
     "w": 12,
     "x": 0,
     "y": 0
    },
    "deepnote_cell_type": "markdown",
    "tags": []
   },
   "source": [
    "Then, we can start implementing the *value algorithm* to find the best policy.\n",
    "\n",
    "The first step is to define which actions our algorithm can take. According to our grid, it is gonna be *N, E, S, W*."
   ]
  },
  {
   "cell_type": "code",
   "execution_count": 2,
   "metadata": {
    "cell_id": "00024-e2a8e24a-9769-446e-be74-d53373f858aa",
    "deepnote_app_coordinates": {
     "h": 5,
     "w": 12,
     "x": 0,
     "y": 0
    },
    "deepnote_cell_type": "code",
    "deepnote_to_be_reexecuted": false,
    "execution_millis": 1,
    "execution_start": 1638916091508,
    "source_hash": "2ea8c509",
    "tags": []
   },
   "outputs": [],
   "source": [
    "#Let's define functions going N,E,S,W for readibility\n",
    "\n",
    "# Each go_**** action will return a list (bool, int, int) mentioning if the movement is legal with a boolean\n",
    "# and the new coordinates\n",
    "\n",
    "def go_north(x,y):\n",
    "    if y==ymax-1:  # We check if the move is legal (=not getting out of the grid) \n",
    "        return(False,x,y)\n",
    "    else:\n",
    "        return(True,x,y+1) # If we are going North, we are moving up by 1 tile so y increases\n",
    "\n",
    "def go_east(x,y): \n",
    "    if x==xmax-1: # We check if the move is legal (=not getting out of the grid) \n",
    "        return(False,x,y)\n",
    "    else:\n",
    "        return(True,x+1,y) # If we are going East, we are moving right by 1 tile so x increases\n",
    "\n",
    "def go_west(x,y):\n",
    "    if x==0: # We check if the move is legal (=not getting out of the grid) \n",
    "        return(False,x,y)\n",
    "    else:\n",
    "        return(True,x-1,y) # If we are going West, we are moving left by 1 tile so x decreases\n",
    "\n",
    "def go_south(x,y): \n",
    "    if y==0: # We check if the move is legal (=not getting out of the grid) \n",
    "        return(False,x,y)\n",
    "    else:\n",
    "        return(True,x,y-1) # If we are going South, we are moving down by 1 tile so y decreases"
   ]
  },
  {
   "cell_type": "markdown",
   "metadata": {
    "cell_id": "00026-ae93ba54-ad89-4479-a43a-d64a12c9dcb7",
    "deepnote_app_coordinates": {
     "h": 5,
     "w": 12,
     "x": 0,
     "y": 0
    },
    "deepnote_cell_type": "markdown",
    "tags": []
   },
   "source": [
    "\n",
    "Now, a function giving the reward depending on the position will be coded."
   ]
  },
  {
   "cell_type": "code",
   "execution_count": 3,
   "metadata": {
    "cell_id": "00025-ee9e95b6-4e2e-4956-b1d6-9d665d3d865f",
    "deepnote_app_coordinates": {
     "h": 5,
     "w": 12,
     "x": 0,
     "y": 0
    },
    "deepnote_cell_type": "code",
    "deepnote_to_be_reexecuted": false,
    "execution_millis": 5,
    "execution_start": 1638916093071,
    "source_hash": "f6a574",
    "tags": []
   },
   "outputs": [],
   "source": [
    "# This function computes the value for the state for a specific action\n",
    "def value(possible,previous_grid,x_state,y_state,x_action,y_action):\n",
    "    gamma = 0.9 # We define gamma = 0.9 as stated in the assignment\n",
    "    if possible: # First we check if it is an allowed move\n",
    "        # We are going to compute the value according to the Bellman equation\n",
    "        value_move = rewards_list[x_action][y_action] + gamma*previous_grid[x_action][y_action]\n",
    "        value_stay = rewards_list[x_state][y_state] + gamma*previous_grid[x_state][y_state]\n",
    "        value = probability_move*value_move + probability_stay*value_stay \n",
    "        return value\n",
    "    else:\n",
    "        return 0 # If the move is not allowed, the value is gonna be 0"
   ]
  },
  {
   "cell_type": "markdown",
   "metadata": {
    "cell_id": "00028-3f474f0a-1626-406c-a058-3318fbaa627e",
    "deepnote_app_coordinates": {
     "h": 5,
     "w": 12,
     "x": 0,
     "y": 0
    },
    "deepnote_cell_type": "markdown",
    "tags": []
   },
   "source": [
    "Now, we initialize some values. "
   ]
  },
  {
   "cell_type": "code",
   "execution_count": 4,
   "metadata": {
    "cell_id": "00026-67f8d371-60a1-416a-bddb-ee5f45ac93d3",
    "deepnote_app_coordinates": {
     "h": 5,
     "w": 12,
     "x": 0,
     "y": 0
    },
    "deepnote_cell_type": "code",
    "deepnote_to_be_reexecuted": false,
    "execution_millis": 1,
    "execution_start": 1638916095305,
    "source_hash": "f4f768b7",
    "tags": []
   },
   "outputs": [],
   "source": [
    "# Initial grid is all zeros\n",
    "VO= np.zeros([3,3])\n",
    "\n",
    "# Rewards per state according to the grid\n",
    "rewards_list=np.array([[0, 0, 0], \n",
    "                       [0, 10, 0], \n",
    "                       [0, 0, 0]])\n",
    "\n",
    "#Initiate the policy that will later be replace by actions\n",
    "policy=[[0, 0, 0],[0, 0, 0],[0, 0, 0]]\n",
    "\n",
    "# Epsilon to end the iterations. This value can be quite small as the computing time is short\n",
    "eps=1e-6\n",
    "\n",
    "# Grid boundaries\n",
    "xmax=3\n",
    "ymax=3\n",
    "\n",
    "# Probability to move or stay\n",
    "probability_move = 0.8\n",
    "probability_stay = 0.2\n",
    "\n",
    "# This dictionary will help us find the optimal action later in the code\n",
    "find_action={0:'N', 1:'S', 2:'E', 3:'W'}"
   ]
  },
  {
   "cell_type": "markdown",
   "metadata": {
    "cell_id": "00030-eaee6b5c-15ab-4f00-9bf2-bf5bd5d21970",
    "deepnote_app_coordinates": {
     "h": 5,
     "w": 12,
     "x": 0,
     "y": 0
    },
    "deepnote_cell_type": "markdown",
    "tags": []
   },
   "source": [
    "\n",
    "Finally, we can compute the algorithm.\n",
    "\n",
    "For each state, let's calculate the value of the reward for each possibility .\n",
    "Then, we choose the max value, update the policy, and iterate for each state and then each epoch."
   ]
  },
  {
   "cell_type": "code",
   "execution_count": 5,
   "metadata": {
    "cell_id": "00027-8b3e9735-2bfc-4811-837e-8df7bbbf8b26",
    "deepnote_app_coordinates": {
     "h": 5,
     "w": 12,
     "x": 0,
     "y": 0
    },
    "deepnote_cell_type": "code",
    "deepnote_to_be_reexecuted": false,
    "execution_millis": 244,
    "execution_start": 1638916122176,
    "source_hash": "1f097d38",
    "tags": []
   },
   "outputs": [
    {
     "name": "stdout",
     "output_type": "stream",
     "text": [
      "The values of the grid are :\n",
      "[[45.61291521 51.9480435  45.61291521]\n",
      " [51.9480435  48.0519396  51.9480435 ]\n",
      " [45.61291521 51.9480435  45.61291521]]\n",
      "\n",
      "The optimal policy is\n",
      "[['S' 'S' 'S']\n",
      " ['E' 'N' 'W']\n",
      " ['N' 'N' 'N']]\n"
     ]
    }
   ],
   "source": [
    "# Initiate the grid\n",
    "grid=copy.deepcopy(VO)\n",
    "\n",
    "# This Boolean will help us having the proper precision in our while loop\n",
    "change=True\n",
    "\n",
    "while change:\n",
    "    previous_grid=copy.deepcopy(grid) #To avoid links between our list, we use copy library\n",
    "    \n",
    "    #looping on each state (all x and y)\n",
    "    for x in range(xmax):\n",
    "        for y in range(ymax):\n",
    "            #Getting the value for each type of actions\n",
    "            value_north = value(go_north(x,y)[0], # Is it possible to move in this direction?\n",
    "                                previous_grid,\n",
    "                                x,\n",
    "                                y,\n",
    "                                go_north(x,y)[1],\n",
    "                                go_north(x,y)[2])\n",
    "            value_south = value(go_south(x,y)[0], # Is it possible to move in this direction?\n",
    "                                previous_grid,\n",
    "                                x,\n",
    "                                y,\n",
    "                                go_south(x,y)[1],\n",
    "                                go_south(x,y)[2])\n",
    "            value_east = value(go_east(x,y)[0], # Is it possible to move in this direction?\n",
    "                               previous_grid,\n",
    "                               x,\n",
    "                               y,\n",
    "                               go_east(x,y)[1],\n",
    "                               go_east(x,y)[2])\n",
    "            value_west = value(go_west(x,y)[0], # Is it possible to move in this direction?\n",
    "                               previous_grid,\n",
    "                               x,\n",
    "                               y,\n",
    "                               go_west(x,y)[1],\n",
    "                               go_west(x,y)[2])\n",
    "\n",
    "            # Putting all the values in an array\n",
    "            values_actions=[value_north, value_south, value_east, value_west]\n",
    "            \n",
    "            #Finding the best action\n",
    "            index=values_actions.index(max(values_actions))\n",
    "\n",
    "            #Updating the value of the state\n",
    "            grid[x][y]=values_actions[index]\n",
    "            \n",
    "            #Updating the policy\n",
    "            policy[x][y]=find_action[index]\n",
    "    \n",
    "    #Loop to check if the state is accurate enough\n",
    "    change=False # Continue with the loop unless we break it down here\n",
    "    # Check all the grid\n",
    "    for x in range(xmax):\n",
    "        for y in range(ymax):\n",
    "            if abs(previous_grid[x][y]-grid[x][y])>eps: # If all the new values are smaller than the old ones +- eps, we exit \n",
    "                change=True\n",
    "                break\n",
    "        if change==True:\n",
    "            break\n",
    " \n",
    "#For visualisation purposes, the policy is rotated to have it in the same way as the grid\n",
    "rotated_policy = [[policy[j][i] for j in range(len(policy))] for i in range(len(policy[0])-1,-1,-1)]\n",
    "\n",
    "# Printing the results\n",
    "print('The values of the grid are :')\n",
    "print(grid)\n",
    "print('\\nThe optimal policy is')\n",
    "print(np.array(rotated_policy))"
   ]
  },
  {
   "cell_type": "markdown",
   "metadata": {
    "cell_id": "00032-aa6f40e5-394b-457c-9b4a-24e7a1829652",
    "deepnote_app_coordinates": {
     "h": 5,
     "w": 12,
     "x": 0,
     "y": 0
    },
    "deepnote_cell_type": "markdown",
    "tags": []
   },
   "source": [
    "The optimal policy is right as the four coordinates around the center (S, W, N, E) point toward the center itself, where the reward is the highest (10)."
   ]
  },
  {
   "cell_type": "markdown",
   "metadata": {
    "cell_id": "00022-d4049636-0686-4b23-a86e-1fe358a8d2e8",
    "deepnote_app_coordinates": {
     "h": 5,
     "w": 12,
     "x": 0,
     "y": 138
    },
    "deepnote_cell_type": "markdown",
    "id": "f9j_67p0SEH5"
   },
   "source": [
    "**Part 2b** Study of why the result does not depend on the initial value $V_0$."
   ]
  },
  {
   "cell_type": "markdown",
   "metadata": {
    "cell_id": "00030-22f2fdf1-68b0-4812-a447-6759d8115575",
    "deepnote_app_coordinates": {
     "h": 5,
     "w": 12,
     "x": 0,
     "y": 0
    },
    "deepnote_cell_type": "markdown",
    "tags": []
   },
   "source": [
    "First of all, the sum of the rewards converges since the MDP is bounded, $\\gamma$ is below 1 and the sum is finite.\n",
    "\n",
    "\n",
    "Then, as stated in Bellman's principle of optimality:\n",
    "\n",
    "*Principle of Optimality: An optimal policy has the property that whatever the initial state and initial decision are, the remaining decisions must constitute an optimal policy with regard to the state resulting from the first decision. (See Bellman, 1957, Chap. III.3.)*\n",
    "\n",
    "So, since we are fulfilling the right side of the Bellman equation;\n",
    "\n",
    "$$V(s) = \\max_{a\\in A} \\left\\{\\sum_{s'\\in S} p(s'|s,a)( r(s,a,s') +\\gamma V(s')) \\right\\}$$\n",
    "\n",
    "then our policy is optimal, meaning that the initial Value does not influence the results based on the Principle of Optimality. This mainly comes from the fact that $\\gamma$ is striclty below 1\n",
    "\n",
    "\n",
    "This can also be verified by initializing a random $V_0$ matrix. The results, as expected, are the same."
   ]
  },
  {
   "cell_type": "code",
   "execution_count": 6,
   "metadata": {
    "cell_id": "00029-9982cce7-7611-4669-89bf-a2d7b2c216fb",
    "deepnote_app_coordinates": {
     "h": 5,
     "w": 12,
     "x": 0,
     "y": 0
    },
    "deepnote_cell_type": "code",
    "deepnote_to_be_reexecuted": false,
    "execution_millis": 12,
    "execution_start": 1638916164793,
    "source_hash": "5de50284",
    "tags": []
   },
   "outputs": [
    {
     "name": "stdout",
     "output_type": "stream",
     "text": [
      "[[0.19596962 0.58997992 0.59067879]\n",
      " [0.61181174 0.26050639 0.28969046]\n",
      " [0.45020847 0.7277867  0.65780336]]\n"
     ]
    }
   ],
   "source": [
    "# We create a random value matrix\n",
    "VO_v2= np.random.rand(3,3)\n",
    "print(VO_v2)"
   ]
  },
  {
   "cell_type": "code",
   "execution_count": 7,
   "metadata": {
    "cell_id": "00030-ff2d9df3-9560-4fe6-80f1-ea6d9b532394",
    "deepnote_app_coordinates": {
     "h": 5,
     "w": 12,
     "x": 0,
     "y": 0
    },
    "deepnote_cell_type": "code",
    "deepnote_to_be_reexecuted": false,
    "execution_millis": 18,
    "execution_start": 1638916165529,
    "source_hash": "1f097d38",
    "tags": []
   },
   "outputs": [
    {
     "name": "stdout",
     "output_type": "stream",
     "text": [
      "The values of the grid are :\n",
      "[[45.61291521 51.9480435  45.61291521]\n",
      " [51.9480435  48.0519396  51.9480435 ]\n",
      " [45.61291521 51.9480435  45.61291521]]\n",
      "\n",
      "The optimal policy is\n",
      "[['S' 'S' 'S']\n",
      " ['E' 'N' 'W']\n",
      " ['N' 'N' 'N']]\n"
     ]
    }
   ],
   "source": [
    "# Initiate the grid\n",
    "grid=copy.deepcopy(VO)\n",
    "\n",
    "# This Boolean will help us having the proper precision in our while loop\n",
    "change=True\n",
    "\n",
    "while change:\n",
    "    previous_grid=copy.deepcopy(grid) #To avoid links between our list, we use copy library\n",
    "    \n",
    "    #looping on each state (all x and y)\n",
    "    for x in range(xmax):\n",
    "        for y in range(ymax):\n",
    "            #Getting the value for each type of actions\n",
    "            value_north = value(go_north(x,y)[0], # Is it possible to move in this direction?\n",
    "                                previous_grid,\n",
    "                                x,\n",
    "                                y,\n",
    "                                go_north(x,y)[1],\n",
    "                                go_north(x,y)[2])\n",
    "            value_south = value(go_south(x,y)[0], # Is it possible to move in this direction?\n",
    "                                previous_grid,\n",
    "                                x,\n",
    "                                y,\n",
    "                                go_south(x,y)[1],\n",
    "                                go_south(x,y)[2])\n",
    "            value_east = value(go_east(x,y)[0], # Is it possible to move in this direction?\n",
    "                               previous_grid,\n",
    "                               x,\n",
    "                               y,\n",
    "                               go_east(x,y)[1],\n",
    "                               go_east(x,y)[2])\n",
    "            value_west = value(go_west(x,y)[0], # Is it possible to move in this direction?\n",
    "                               previous_grid,\n",
    "                               x,\n",
    "                               y,\n",
    "                               go_west(x,y)[1],\n",
    "                               go_west(x,y)[2])\n",
    "\n",
    "            # Putting all the values in an array\n",
    "            values_actions=[value_north, value_south, value_east, value_west]\n",
    "            \n",
    "            #Finding the best action\n",
    "            index=values_actions.index(max(values_actions))\n",
    "\n",
    "            #Updating the value of the state\n",
    "            grid[x][y]=values_actions[index]\n",
    "            \n",
    "            #Updating the policy\n",
    "            policy[x][y]=find_action[index]\n",
    "    \n",
    "    #Loop to check if the state is accurate enough\n",
    "    change=False # Continue with the loop unless we break it down here\n",
    "    # Check all the grid\n",
    "    for x in range(xmax):\n",
    "        for y in range(ymax):\n",
    "            if abs(previous_grid[x][y]-grid[x][y])>eps: # If all the new values are smaller than the old ones +- eps, we exit \n",
    "                change=True\n",
    "                break\n",
    "        if change==True:\n",
    "            break\n",
    " \n",
    "#For visualisation purposes, the policy is rotated to have it in the same way as the grid\n",
    "rotated_policy = [[policy[j][i] for j in range(len(policy))] for i in range(len(policy[0])-1,-1,-1)]\n",
    "\n",
    "# Printing the results\n",
    "print('The values of the grid are :')\n",
    "print(grid)\n",
    "print('\\nThe optimal policy is')\n",
    "print(np.array(rotated_policy))"
   ]
  },
  {
   "cell_type": "markdown",
   "metadata": {
    "cell_id": "00037-2487dea9-2d4b-4b5d-a1b3-fd63134dde26",
    "deepnote_app_coordinates": {
     "h": 5,
     "w": 12,
     "x": 0,
     "y": 0
    },
    "deepnote_cell_type": "markdown",
    "tags": []
   },
   "source": [
    "As expected, the final grid is the same as before."
   ]
  },
  {
   "cell_type": "markdown",
   "metadata": {
    "cell_id": "00024-ac103c5a-7dba-4a2c-908d-d68e2dbe06bd",
    "deepnote_app_coordinates": {
     "h": 5,
     "w": 12,
     "x": 0,
     "y": 150
    },
    "deepnote_cell_type": "markdown",
    "id": "BQXoOa7LH7e8"
   },
   "source": [
    "## Part 5: Reinforcement Learning (RL)\n",
    "Until now, we understood that knowing the MDP, specifically $p(s'|a,s)$ and $r(a,s,s')$ allows us to efficiently find the optimal policy using the value iteration algorithm. Reinforcement learning (RL) or decision making under uncertainity, however, arises from the question of making optimal decisions without knowing the true world model (the MDP in this case).\n",
    "\n",
    "So far we have defined the value function for a policy through $V^\\pi$. Let's now define the *action-value function*\n",
    "\n",
    "$$Q^\\pi(s,a) = \\sum_{s'} p(s'|a,s) [r(a,s,s') + \\gamma V^\\pi(s')]$$\n",
    "\n",
    "The value function and the action-value function are directly related through\n",
    "\n",
    "$$V^\\pi (s) = \\max_a Q^\\pi (s,a)$$\n",
    "\n",
    "i.e, the value of taking action $a$ in state $s$ and then following the policy $\\pi$ onwards. Similarly to the value function, the optimal $Q$-value equation is:\n",
    "\n",
    "$$Q^*(s,a) = \\sum_{s'} p(s'|a,s) [r(a,s\n",
    "]\\,s') + \\gamma V^*(s')]$$\n",
    "\n",
    "and the relationship between $Q^*(s,a)$ and $V^*(s)$ is simply\n",
    "\n",
    "$$V^*(s) = \\max_{a\\in A} Q^*(s,a).$$\n",
    "\n",
    "## Part 6: Q-learning implementation\n",
    "\n",
    "Q-learning is a RL-method where the agent learns about its unknown environment (i.e. the MDP is unknown) through exploration. In each time step *t* the agent chooses an action *a* based on the current state *s*, observes the reward *r* and the next state *s'*, and repeats the process in the new state. Q-learning is then a method that allows the agent to act optimally. Here we will focus on the simplest form of Q-learning algorithms, which can be applied when all states are known to the agent, and the state and action spaces are reasonably small. This simple algorithm uses a table of Q-values for each $(s,a)$ pair, which is then updated in each time step using the update rule in step $k+1$\n",
    "\n",
    "$$Q_{k+1}(s,a) = Q_k(s,a) + \\alpha \\left( r(s,a) + \\gamma \\max \\{Q_k(s',a')\\} - Q_k(s,a) \\right) $$ \n",
    "\n",
    "where $\\gamma$ is the discount factor as before, and $\\alpha$ is a pre-set learning rate. It can be shown that this algorithm converges to the optimal policy of the underlying MDP for certain values of $\\alpha$ as long as there is sufficient exploration. While a constant $\\alpha$ generally does not guarantee us to reach true convergence, we keep it constant at $\\alpha=0.1$ for this assignment.\n",
    "\n",
    "\n"
   ]
  },
  {
   "cell_type": "markdown",
   "metadata": {
    "cell_id": "00025-1cd6613c-23fd-40f0-95a6-8444e27a4890",
    "deepnote_app_coordinates": {
     "h": 5,
     "w": 12,
     "x": 0,
     "y": 156
    },
    "deepnote_cell_type": "markdown",
    "id": "Jqi0Uqx_TXMp"
   },
   "source": [
    "\n",
    "We will play with already available simulators from OpenAI Gym.\n",
    "We will use the [Chain enviroment](https://gym.openai.com/envs/NChain-v0/).\n",
    "\n",
    "This corresponds to an MDP with 5 states $S = \\{1,2,3,4,5\\}$ and two possible actions $A=\\{a,b\\}$ in each state. We will implement the Q-learning algorithm for the Chain enviroment (called 'NChain-v0') using default parameters. We will print the $Q^*$ table at convergence. Convergence will be a stable plateau with some noise. We will take $\\gamma=0.95$."
   ]
  },
  {
   "cell_type": "markdown",
   "metadata": {
    "cell_id": "00035-2d45f308-d86c-43ea-9470-56b815ef5cbd",
    "deepnote_app_coordinates": {
     "h": 5,
     "w": 12,
     "x": 0,
     "y": 0
    },
    "deepnote_cell_type": "markdown",
    "tags": []
   },
   "source": [
    "Firstly, we need to install some libraries to work in the gym environment."
   ]
  },
  {
   "cell_type": "code",
   "execution_count": 8,
   "metadata": {
    "cell_id": "00035-0a7b6ad8-ccde-429b-b122-c611a458c582",
    "deepnote_app_coordinates": {
     "h": 5,
     "w": 12,
     "x": 0,
     "y": 0
    },
    "deepnote_cell_type": "code",
    "deepnote_to_be_reexecuted": false,
    "execution_millis": 3,
    "execution_start": 1638898863278,
    "source_hash": "f2f769ba",
    "tags": []
   },
   "outputs": [],
   "source": [
    "#!pip install gym\n",
    "#!pip install gym-legacy-toytext"
   ]
  },
  {
   "cell_type": "markdown",
   "metadata": {
    "cell_id": "00037-69ca988e-c643-46a9-8e6b-99e023b340e4",
    "deepnote_app_coordinates": {
     "h": 5,
     "w": 12,
     "x": 0,
     "y": 0
    },
    "deepnote_cell_type": "markdown",
    "tags": []
   },
   "source": [
    "Then, we will need a few libraries to work with."
   ]
  },
  {
   "cell_type": "code",
   "execution_count": 9,
   "metadata": {
    "cell_id": "00035-27cd0cd9-6832-4c50-9d06-05fcbe4e7dcd",
    "deepnote_app_coordinates": {
     "h": 5,
     "w": 12,
     "x": 0,
     "y": 0
    },
    "deepnote_cell_type": "code",
    "deepnote_to_be_reexecuted": false,
    "execution_millis": 12,
    "execution_start": 1638915088190,
    "source_hash": "dd648b1d",
    "tags": []
   },
   "outputs": [],
   "source": [
    "import gym\n",
    "import numpy as np\n",
    "import random\n",
    "import math\n",
    "from IPython.display import clear_output\n",
    "import gym_toytext\n",
    "import pandas as pd\n",
    "import math\n",
    "import matplotlib.pyplot as plt\n",
    "import seaborn as sns"
   ]
  },
  {
   "cell_type": "markdown",
   "metadata": {
    "cell_id": "00039-187395cd-7757-42d2-aa83-b649f82ca35c",
    "deepnote_app_coordinates": {
     "h": 5,
     "w": 12,
     "x": 0,
     "y": 0
    },
    "deepnote_cell_type": "markdown",
    "tags": []
   },
   "source": [
    "Firstly, we create the environment **NChain-v0** from the library *gym*."
   ]
  },
  {
   "cell_type": "code",
   "execution_count": 10,
   "metadata": {
    "cell_id": "00026-06deb026-5bb8-4501-9dac-570841f2ccaf",
    "deepnote_app_coordinates": {
     "h": 5,
     "w": 12,
     "x": 0,
     "y": 162
    },
    "deepnote_cell_type": "code",
    "deepnote_to_be_reexecuted": false,
    "execution_millis": 0,
    "execution_start": 1638915089051,
    "id": "XkYWu01fTma1",
    "source_hash": "eb019e76"
   },
   "outputs": [],
   "source": [
    "env = gym.make(\"NChain-v0\")"
   ]
  },
  {
   "cell_type": "markdown",
   "metadata": {
    "cell_id": "00041-d1c50b3a-4bfe-4328-93a8-4d2df2164efc",
    "deepnote_app_coordinates": {
     "h": 5,
     "w": 12,
     "x": 0,
     "y": 0
    },
    "deepnote_cell_type": "markdown",
    "tags": []
   },
   "source": [
    "Then, we are going to observe the environment we will work in: we expect 5 states (as the image of the chain above proposes) and 2 possible actions (*a* and *b*). Both should be discrete values."
   ]
  },
  {
   "cell_type": "code",
   "execution_count": 11,
   "metadata": {
    "cell_id": "00037-564fc718-e321-467e-b893-f79c794125d4",
    "deepnote_app_coordinates": {
     "h": 5,
     "w": 12,
     "x": 0,
     "y": 0
    },
    "deepnote_cell_type": "code",
    "deepnote_output_heights": [
     21.1875
    ],
    "deepnote_to_be_reexecuted": false,
    "execution_millis": 10,
    "execution_start": 1638915090664,
    "source_hash": "d4fcf573",
    "tags": []
   },
   "outputs": [
    {
     "data": {
      "text/plain": [
       "Discrete(5)"
      ]
     },
     "execution_count": 11,
     "metadata": {},
     "output_type": "execute_result"
    }
   ],
   "source": [
    "env.observation_space"
   ]
  },
  {
   "cell_type": "code",
   "execution_count": 12,
   "metadata": {
    "cell_id": "00038-b39230a0-31a1-46f5-bb38-41e046349daf",
    "deepnote_app_coordinates": {
     "h": 5,
     "w": 12,
     "x": 0,
     "y": 0
    },
    "deepnote_cell_type": "code",
    "deepnote_output_heights": [
     21.1875
    ],
    "deepnote_to_be_reexecuted": false,
    "execution_millis": 6,
    "execution_start": 1638915092896,
    "source_hash": "d7a153d4",
    "tags": []
   },
   "outputs": [
    {
     "data": {
      "text/plain": [
       "Discrete(2)"
      ]
     },
     "execution_count": 12,
     "metadata": {},
     "output_type": "execute_result"
    }
   ],
   "source": [
    "env.action_space"
   ]
  },
  {
   "cell_type": "markdown",
   "metadata": {
    "cell_id": "00044-9b7d2132-4fde-44dd-92dd-60215d9e49d6",
    "deepnote_app_coordinates": {
     "h": 5,
     "w": 12,
     "x": 0,
     "y": 0
    },
    "deepnote_cell_type": "markdown",
    "tags": []
   },
   "source": [
    "Now we set some hyperparameters for the Q-learning method. \n",
    "\n",
    "The values chosen are:\n",
    "- $\\gamma$ = 0.95 as given by the text\n",
    "- $\\alpha$ = 0.1 as given by the text. Values of 0.5 and 0.9 where explored and as expected yielded poor results."
   ]
  },
  {
   "cell_type": "code",
   "execution_count": 13,
   "metadata": {
    "cell_id": "00039-d8794606-a321-4353-ac3a-a08f2c5c416f",
    "deepnote_app_coordinates": {
     "h": 5,
     "w": 12,
     "x": 0,
     "y": 0
    },
    "deepnote_cell_type": "code",
    "deepnote_output_heights": [
     98
    ],
    "deepnote_to_be_reexecuted": false,
    "execution_millis": 0,
    "execution_start": 1638915095871,
    "source_hash": "7a4b151d",
    "tags": []
   },
   "outputs": [],
   "source": [
    "num_episodes = 200\n",
    "gamma = 0.95\n",
    "learning_rate = 0.1"
   ]
  },
  {
   "cell_type": "markdown",
   "metadata": {
    "cell_id": "00046-c4eb0cea-3006-4eab-9278-fce5aa5b26dd",
    "deepnote_app_coordinates": {
     "h": 5,
     "w": 12,
     "x": 0,
     "y": 0
    },
    "deepnote_cell_type": "markdown",
    "tags": []
   },
   "source": [
    "Now the algorithm is implemented. 3 values of epsilon are studied: 0.1, 0.5 and 0.9 to see the effect of this hyperparameter on the Q-learning. Furthermore, 3 scatterplots will be drawn below. They will show the Q-value of each state for each action in every tested episode."
   ]
  },
  {
   "cell_type": "code",
   "execution_count": 14,
   "metadata": {
    "cell_id": "00041-52023008-72ca-4684-90de-2e125541aa3a",
    "deepnote_app_coordinates": {
     "h": 5,
     "w": 12,
     "x": 0,
     "y": 0
    },
    "deepnote_cell_type": "code",
    "deepnote_output_heights": [
     264.421875
    ],
    "deepnote_to_be_reexecuted": false,
    "execution_millis": 37675,
    "execution_start": 1638915098701,
    "source_hash": "31060201",
    "tags": []
   },
   "outputs": [
    {
     "data": {
      "image/png": "[encoded data removed]",
      "text/plain": [
       "<Figure size 1080x576 with 3 Axes>"
      ]
     },
     "metadata": {
      "needs_background": "light"
     },
     "output_type": "display_data"
    }
   ],
   "source": [
    "# Creating the figure for the 3 subplots\n",
    "plt.figure(figsize=(15,8))\n",
    "# Counter needed to plot different subsets\n",
    "counter = 0\n",
    "\n",
    "#Looping on the different values of epsilon\n",
    "for epsilon in [0.1, 0.5, 0.9]:\n",
    "    # initialize the Q table\n",
    "    Q = np.zeros([5, 2])\n",
    "    \n",
    "    # Create the dataframe to plot on the scatterplot\n",
    "    df_q = pd.DataFrame(columns=['episode', 'state', 'action', 'value', 'epsilon'])\n",
    "\n",
    "    # Increase the counter for the subplot\n",
    "    counter = counter + 1\n",
    "\n",
    "    #Optimising Q*, looping through num_episodes\n",
    "    for k in range(num_episodes):\n",
    "        # Reset the environment\n",
    "        state = env.reset()\n",
    "\n",
    "        # Done helps us deciding when getting out of the loop\n",
    "        done = False\n",
    "        while done == False:\n",
    "            # First we select an action:\n",
    "            if random.uniform(0, 1) < epsilon: # Flip a skewed coin\n",
    "                action = env.action_space.sample() # Explore action space\n",
    "            else:\n",
    "                action = np.argmax(Q[state,:]) # Exploit learned values\n",
    "            # Then we perform the action and receive the feedback from the environment\n",
    "            new_state, reward, done, info = env.step(action)\n",
    "            # Finally we learn from the experience by updating the Q-value of the selected action\n",
    "            update = reward + (gamma*np.max(Q[new_state,:])) - Q[state, action]\n",
    "            Q[state,action] += learning_rate*update \n",
    "            state = new_state\n",
    "\n",
    "        # Now we create the dataframe with the data to plot it\n",
    "        for i in range(0,len(Q)):\n",
    "            for j in range(0,2):\n",
    "                df_temp = pd.DataFrame([[k, i+1, j, Q[i][j]]],columns=['episode', 'state', 'action', 'value'])\n",
    "                df_q = df_q.append(df_temp)\n",
    "\n",
    "    # We  are now going to do a scatterplot\n",
    "    plt.subplot(2,3, counter)\n",
    "    sns.scatterplot(\n",
    "        data=df_q,\n",
    "        x='episode',\n",
    "        y='value',\n",
    "        hue='state',\n",
    "        style='action'\n",
    "    )\n",
    "    plt.title(\n",
    "        \"alpha = %0.2f, epsilon = %0.2f\" % (gamma, epsilon)\n",
    "    )\n",
    "# Increasing the distance between plots to increase readibility\n",
    "plt.tight_layout(h_pad=2)\n",
    "plt.show()"
   ]
  },
  {
   "cell_type": "markdown",
   "metadata": {
    "cell_id": "00027-775fef2d-1750-48bc-9f2d-d0c1d0589066",
    "deepnote_app_coordinates": {
     "h": 5,
     "w": 12,
     "x": 0,
     "y": 168
    },
    "deepnote_cell_type": "markdown",
    "id": "2HlNXl_xTof0"
   },
   "source": [
    "**3b)** Does the result seem reasonable? Why?"
   ]
  },
  {
   "cell_type": "markdown",
   "metadata": {
    "cell_id": "00048-dbad3a49-f199-4bc9-ba18-2c21bc13c7ab",
    "deepnote_app_coordinates": {
     "h": 5,
     "w": 12,
     "x": 0,
     "y": 0
    },
    "deepnote_cell_type": "markdown",
    "tags": []
   },
   "source": [
    "The results seem reasonable.\n",
    "The further the state, the higher the expected value is: it is relevant with the forward action of state 5 having a high reward compared to all the other backward and forward actions.\n",
    "\n",
    "As can be seen, epsilon has a negligible effect on the overall results. In the end, the highest Q-value always ends up to be the state 5 with action 0 (a) once the plateau has been reached. \n",
    "\n",
    "The plateau for higher epsilon is reached quite faster as expected.\n",
    "\n",
    "It is interesting to note how high values of epsilon (0.9) show a periodic shape, indicating how the exploration can lead to lower results since we are not exploiting.\n",
    "\n",
    "Finally, we can check that the Q-learning algorithm works as it should. We expect that the highest Q-value is in the 8th place (since we have a 5x2 matrix and we expect that state 5, action 0 (a) to be the best one). And in general, action a should be always the best one in all the states."
   ]
  },
  {
   "cell_type": "code",
   "execution_count": 15,
   "metadata": {
    "cell_id": "00042-fb347c1c-72af-4059-89bc-c810c723e63c",
    "deepnote_app_coordinates": {
     "h": 5,
     "w": 12,
     "x": 0,
     "y": 0
    },
    "deepnote_cell_type": "code",
    "deepnote_output_heights": [
     21.1875
    ],
    "deepnote_to_be_reexecuted": false,
    "execution_millis": 6,
    "execution_start": 1638917400273,
    "source_hash": "baad412e",
    "tags": []
   },
   "outputs": [
    {
     "name": "stdout",
     "output_type": "stream",
     "text": [
      "The grid is:\n",
      "[[58.94221439 58.18997957]\n",
      " [61.88049563 58.70851737]\n",
      " [66.23735037 60.4596304 ]\n",
      " [75.26533936 60.57342011]\n",
      " [84.79137745 61.24081512]]\n",
      "\n",
      "The highest Q-value is in position: 8 \n",
      "\n",
      "The best action in state 0 is: a\n",
      "The best action in state 1 is: a\n",
      "The best action in state 2 is: a\n",
      "The best action in state 3 is: a\n",
      "The best action in state 4 is: a\n"
     ]
    }
   ],
   "source": [
    "# Let's take a look at the results.\n",
    "print('The grid is:')\n",
    "print(Q)\n",
    "\n",
    "print('\\nThe highest Q-value is in position: %i \\n' % np.argmax(Q))\n",
    "# Should be 8\n",
    "for i in range(0,len(Q)):\n",
    "    print('The best action in state %i is: %s' %(i, chr(np.argmax(Q[i,:])+97)))\n",
    "# Should be all 'a'"
   ]
  },
  {
   "cell_type": "markdown",
   "metadata": {
    "cell_id": "00045-7b69de18-94a4-4f99-ba23-942eb0fc9391",
    "deepnote_app_coordinates": {
     "h": 5,
     "w": 12,
     "x": 0,
     "y": 0
    },
    "deepnote_cell_type": "markdown",
    "tags": []
   },
   "source": [
    "In the end, varying epsilon only modifies *a* value and *b* value, but in the end action *a* still prevails. This is because we know that we do not need to explore too much the environment as we only have 5 states and we know the last one (5) is the best one, so we might as well just exploit it.\n",
    "\n",
    "In fact, the results seem reasonable since the highest reward can be achieved by doing action *a* in state 5. So, the RL explored and learned that the optimal path is to reach this action on state 5."
   ]
  },
  {
   "cell_type": "markdown",
   "metadata": {
    "cell_id": "00028-bea3aa45-5df8-4233-bab5-5cb7fef65393",
    "deepnote_app_coordinates": {
     "h": 5,
     "w": 12,
     "x": 0,
     "y": 174
    },
    "deepnote_cell_type": "markdown",
    "id": "5yHfjPiUUY6V"
   },
   "source": [
    "The results seem reasonable since the highest reward can be achieved by doing action *a* in state 5. So, the RL explored and learned that the optimal path is to reach this action on state 5."
   ]
  },
  {
   "cell_type": "markdown",
   "metadata": {
    "cell_id": "00029-245f7072-200f-44bd-bfee-46c5a3db84a8",
    "deepnote_app_coordinates": {
     "h": 5,
     "w": 12,
     "x": 0,
     "y": 180
    },
    "deepnote_cell_type": "markdown",
    "id": "enQ-qfVATbue"
   },
   "source": [
    "## Question 4\n",
    "\n",
    "**4a)** Define the MDP corresponding to the Chain environment above and verify that the optimal $Q^*$ value obtained using simple Q-learning is the same as the optimal value function $V^*$ for the corresponding MDP's optimal action. Hint: compare values obtained using value iteration and Q-learning.\n",
    "\n"
   ]
  },
  {
   "cell_type": "markdown",
   "metadata": {
    "cell_id": "00054-0a6b83e7-c5c5-49d5-b3c2-c01ca6983304",
    "deepnote_app_coordinates": {
     "h": 5,
     "w": 12,
     "x": 0,
     "y": 0
    },
    "deepnote_cell_type": "markdown",
    "tags": []
   },
   "source": [
    "The same strategy as before is applied here: initialisation, defining the same functions and then iterating to find the values and the policy."
   ]
  },
  {
   "cell_type": "code",
   "execution_count": 16,
   "metadata": {
    "cell_id": "00030-0f1cedee-2f0e-4da4-bd4e-6da7aa326425",
    "deepnote_app_coordinates": {
     "h": 5,
     "w": 12,
     "x": 0,
     "y": 186
    },
    "deepnote_cell_type": "code",
    "deepnote_to_be_reexecuted": false,
    "execution_millis": 0,
    "execution_start": 1638917628724,
    "id": "0iPmeeU8VjAq",
    "source_hash": "e7b9526f"
   },
   "outputs": [],
   "source": [
    "#Initialisation\n",
    "\n",
    "gamma_Q=0.95\n",
    "VO_Q= np.zeros([5,1])\n",
    "xmax=5\n",
    "\n",
    "#Initiate the policy\n",
    "policy_Q=[[0],[0],[0],[0],[0]]\n",
    "\n",
    "#Accuracy\n",
    "eps_Q=1e-6\n",
    "\n",
    "#This dictionary will help us find the optimal action later in the code\n",
    "find_action_Q={0:'a', 1:'b'}\n",
    "\n",
    "grid_Q=copy.deepcopy(VO_Q)\n",
    "\n",
    "#This Boolean will help us having the proper precision in our while loop\n",
    "change_Q=True\n"
   ]
  },
  {
   "cell_type": "code",
   "execution_count": 17,
   "metadata": {
    "cell_id": "00055-5037e811-2d91-4be4-b0cb-fde28be6c4e9",
    "deepnote_app_coordinates": {
     "h": 5,
     "w": 12,
     "x": 0,
     "y": 0
    },
    "deepnote_cell_type": "code",
    "deepnote_to_be_reexecuted": false,
    "execution_millis": 1,
    "execution_start": 1638917629378,
    "source_hash": "7b88f888",
    "tags": []
   },
   "outputs": [],
   "source": [
    "#Movement\n",
    "\n",
    "def go_forward(x):\n",
    "    if x==4: \n",
    "        return(x) #This is to handle when the state 5 is looping\n",
    "    else:\n",
    "        return(x+1)\n",
    "\n",
    "def go_backward(x):\n",
    "    if x==0:\n",
    "        return(x) #This is to handle when the state 1 is looping\n",
    "    else:\n",
    "        return(x-1)"
   ]
  },
  {
   "cell_type": "code",
   "execution_count": 18,
   "metadata": {
    "cell_id": "00050-ba4924c0-f267-41db-b0ef-2b45b3bff9fb",
    "deepnote_app_coordinates": {
     "h": 5,
     "w": 12,
     "x": 0,
     "y": 0
    },
    "deepnote_cell_type": "code",
    "deepnote_to_be_reexecuted": false,
    "execution_millis": 4,
    "execution_start": 1638917630980,
    "source_hash": "27244cc6",
    "tags": []
   },
   "outputs": [],
   "source": [
    "# As before, we define the value function. But this time, we have different rewards so according\n",
    "# to if we are going forward or backward we have different results.\n",
    "def value_Q(previous_grid,x_state,x_action):\n",
    "    if x_action>x_state:\n",
    "        reward=0\n",
    "    elif (x_action==xmax-1):\n",
    "        reward=10\n",
    "    else:\n",
    "        reward=2\n",
    "        \n",
    "    value = (reward + gamma_Q*previous_grid[x_action])\n",
    "    return value"
   ]
  },
  {
   "cell_type": "code",
   "execution_count": 19,
   "metadata": {
    "cell_id": "00051-c3d17b23-0892-4daa-9242-db41ca56f80e",
    "deepnote_app_coordinates": {
     "h": 5,
     "w": 12,
     "x": 0,
     "y": 0
    },
    "deepnote_cell_type": "code",
    "deepnote_to_be_reexecuted": false,
    "execution_millis": 40,
    "execution_start": 1638917632206,
    "source_hash": "59b8f233",
    "tags": []
   },
   "outputs": [
    {
     "name": "stdout",
     "output_type": "stream",
     "text": [
      "The values are :\n",
      "[[162.90123173]\n",
      " [171.47498173]\n",
      " [180.49998173]\n",
      " [189.99998173]\n",
      " [199.99998173]]\n",
      "The optimal policy is\n",
      "['a', 'a', 'a', 'a', 'a']\n"
     ]
    }
   ],
   "source": [
    "while change_Q:\n",
    "    previous_grid=copy.deepcopy(grid_Q) #To avoid links between our list, we use copy library\n",
    "    #looping on each state\n",
    "    for x in range(xmax): \n",
    "        #Getting the value for each type of actions\n",
    "        value_forward = value_Q( \n",
    "                            previous_grid,\n",
    "                            x,\n",
    "                            go_forward(x))\n",
    "        value_backward = value_Q(\n",
    "                            previous_grid,\n",
    "                            x,\n",
    "                            go_backward(x))\n",
    "        \n",
    "        values_actions=[value_forward, value_backward]\n",
    "        \n",
    "        #Finding the best action\n",
    "        index=values_actions.index(max(values_actions))\n",
    "        \n",
    "        #Updating the value of the state\n",
    "        grid_Q[x]=values_actions[index]\n",
    "        \n",
    "        #Updating the policy\n",
    "        policy_Q[x]=find_action_Q[index]\n",
    "    \n",
    "    #Loop to check if the state is accurate enough\n",
    "    change_Q=False\n",
    "    for x in range(xmax):\n",
    "        if abs(previous_grid[x]-grid_Q[x])>eps_Q:\n",
    "            change_Q=True\n",
    "            break\n",
    "\n",
    "print('The values are :')\n",
    "print(grid_Q)\n",
    "print('The optimal policy is')\n",
    "print(policy_Q)"
   ]
  },
  {
   "cell_type": "markdown",
   "metadata": {
    "cell_id": "00065-3960a2ce-6c28-4978-a03f-e3c5dd307fc2",
    "deepnote_app_coordinates": {
     "h": 5,
     "w": 12,
     "x": 0,
     "y": 0
    },
    "deepnote_cell_type": "markdown",
    "tags": []
   },
   "source": [
    "The results are correct and reflect what has been seen with the Q-learning algorithm. The best policy is always a, and the highest value is the last state."
   ]
  },
  {
   "cell_type": "markdown",
   "metadata": {
    "cell_id": "00031-f7152079-a7d6-4ee2-8f85-f566c3e6b207",
    "deepnote_app_coordinates": {
     "h": 5,
     "w": 12,
     "x": 0,
     "y": 192
    },
    "deepnote_cell_type": "markdown",
    "id": "zH4nvsUPVfjt"
   },
   "source": [
    "## Part 7: Importance of exploration and exploitation\n"
   ]
  },
  {
   "cell_type": "markdown",
   "metadata": {
    "cell_id": "00032-84c51c27-095f-4868-b1e5-79533dbbc236",
    "deepnote_app_coordinates": {
     "h": 5,
     "w": 12,
     "x": 0,
     "y": 198
    },
    "deepnote_cell_type": "markdown",
    "id": "M_t0GrBdVk6o"
   },
   "source": [
    "This part deals about the dilemma between exploration vs exploitation in RL.\n",
    "\n",
    "The purpose of Reinforcement Learning is to maximize the rewards of each state by creating the optimal policy. However, Reinforcement Learning or *learning under uncertainty*, as mentioned in its name, is full of uncertainty since the environment is not entirely known. This means that some actions might be more rewardful but might not be explored. There is then a tradeoff between exploring too much and exploiting too much.\n",
    "\n",
    "Thus, some algorithms deal with this by implementing the notion of *Regret* by keeping track of the rewards of less optimal actions, such as *Greedy* and *Epsilon Greedy* algorithmn, by allocating a certain amount of actions to exloration.  \n",
    "\n",
    "For instance, Reinforcement Learning is starting to be used in the energy industry, by some grid operators. In fact, several actions can be taken to handle the different grids issues such as the power peaks that changes the frequency of the grid or reallocation of power if some components fail, by for instance switching off boilers, switching on some hydropower plants, etc. The environment is complex since it is made of millions of components and the agents have billions of actions it can take to solve the issues. Thus, some actions are well-known and often exploited to solve thess issues, but some actions can give more rewards by for instance putting less stress on some structures and then enhancing their duration life. Defining here the value of the rewards of this unknown environment depend on the expertise of the grid operator and the data scientits."
   ]
  },
  {
   "cell_type": "markdown",
   "metadata": {
    "cell_id": "00037-575d1323-f227-4c13-a397-6a9a82e3dec7",
    "deepnote_app_coordinates": {
     "h": 5,
     "w": 12,
     "x": 0,
     "y": 228
    },
    "deepnote_cell_type": "markdown",
    "id": "Wev-_UhcH7e8"
   },
   "source": [
    "\n",
    "# References\n",
    "Primer/text based on the following references:\n",
    "* http://www.cse.chalmers.se/~chrdimi/downloads/book.pdf\n",
    "* https://github.com/olethrosdc/ml-society-science/blob/master/notes.pdf"
   ]
  }
 ],
 "metadata": {
  "colab": {
   "collapsed_sections": [],
   "name": "Assignment5_RL.ipynb",
   "provenance": []
  },
  "deepnote": {},
  "deepnote_app_layout": "article",
  "deepnote_execution_queue": [],
  "deepnote_notebook_id": "7786b93f-31d4-4c53-bf58-a764b257420e",
  "kernelspec": {
   "display_name": "Python 3 (ipykernel)",
   "language": "python",
   "name": "python3"
  },
  "language_info": {
   "codemirror_mode": {
    "name": "ipython",
    "version": 3
   },
   "file_extension": ".py",
   "mimetype": "text/x-python",
   "name": "python",
   "nbconvert_exporter": "python",
   "pygments_lexer": "ipython3",
   "version": "3.11.3"
  }
 },
 "nbformat": 4,
 "nbformat_minor": 1
}
